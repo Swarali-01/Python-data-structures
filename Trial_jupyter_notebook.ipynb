{
 "cells": [
  {
   "cell_type": "code",
   "execution_count": 1,
   "metadata": {},
   "outputs": [],
   "source": [
    "# List"
   ]
  },
  {
   "cell_type": "code",
   "execution_count": 2,
   "metadata": {},
   "outputs": [
    {
     "data": {
      "text/plain": [
       "['mango', 'apple', 'peach', 'guava', 'strawberry', 1, 2, 5, 3, 9]"
      ]
     },
     "execution_count": 2,
     "metadata": {},
     "output_type": "execute_result"
    }
   ],
   "source": [
    "list1=['mango','apple','peach','guava','strawberry']\n",
    "list2=[1,2,5,3,9]\n",
    "list1+list2    # concatenation"
   ]
  },
  {
   "cell_type": "code",
   "execution_count": 3,
   "metadata": {},
   "outputs": [
    {
     "name": "stdout",
     "output_type": "stream",
     "text": [
      "['mango', 'apple', 'peach', 'guava', 'strawberry', 'mango', 'apple', 'peach', 'guava', 'strawberry']\n"
     ]
    }
   ],
   "source": [
    "print(list1*2)"
   ]
  },
  {
   "cell_type": "code",
   "execution_count": 4,
   "metadata": {},
   "outputs": [
    {
     "name": "stdout",
     "output_type": "stream",
     "text": [
      "peach 3 ['apple', 'peach']\n"
     ]
    }
   ],
   "source": [
    "print(list1[2],list1.index('guava'),list1[1:3])      # index function will display the index\n"
   ]
  },
  {
   "cell_type": "code",
   "execution_count": 5,
   "metadata": {},
   "outputs": [],
   "source": [
    "list2.append(4)  # Append takes exactly one argument"
   ]
  },
  {
   "cell_type": "code",
   "execution_count": 6,
   "metadata": {},
   "outputs": [
    {
     "name": "stdout",
     "output_type": "stream",
     "text": [
      "[1, 2, 5, 3, 4]\n"
     ]
    }
   ],
   "source": [
    "del list2[4]\n",
    "print(list2)"
   ]
  },
  {
   "cell_type": "code",
   "execution_count": 7,
   "metadata": {},
   "outputs": [
    {
     "name": "stdout",
     "output_type": "stream",
     "text": [
      "('C', 'C++', 'Python')\n",
      "Python\n",
      "3\n"
     ]
    }
   ],
   "source": [
    "# Tuple\n",
    "tuple1=('C','C++','Python')\n",
    "print(tuple1)\n",
    "print(tuple1[2])\n",
    "print(len(tuple1))\n"
   ]
  },
  {
   "cell_type": "code",
   "execution_count": 8,
   "metadata": {},
   "outputs": [
    {
     "name": "stdout",
     "output_type": "stream",
     "text": [
      "2\n"
     ]
    }
   ],
   "source": [
    " print(tuple1.index('Python'))"
   ]
  },
  {
   "cell_type": "code",
   "execution_count": 9,
   "metadata": {},
   "outputs": [
    {
     "name": "stdout",
     "output_type": "stream",
     "text": [
      "{}\n",
      "{'money': 300, 'candy': 2, 'name': 'Swarali'}\n",
      "dict_values([300, 2, 'Swarali'])\n"
     ]
    }
   ],
   "source": [
    "# Dictionary\n",
    "purse=dict()\n",
    "print(purse)\n",
    "purse['money']=300\n",
    "purse['candy']=2\n",
    "purse['name']='Swarali'\n",
    "print(purse)\n",
    "list(purse)\n",
    "print(purse.values())"
   ]
  },
  {
   "cell_type": "code",
   "execution_count": null,
   "metadata": {},
   "outputs": [],
   "source": []
  }
 ],
 "metadata": {
  "kernelspec": {
   "display_name": "Python 3",
   "language": "python",
   "name": "python3"
  },
  "language_info": {
   "codemirror_mode": {
    "name": "ipython",
    "version": 3
   },
   "file_extension": ".py",
   "mimetype": "text/x-python",
   "name": "python",
   "nbconvert_exporter": "python",
   "pygments_lexer": "ipython3",
   "version": "3.7.6"
  }
 },
 "nbformat": 4,
 "nbformat_minor": 4
}
